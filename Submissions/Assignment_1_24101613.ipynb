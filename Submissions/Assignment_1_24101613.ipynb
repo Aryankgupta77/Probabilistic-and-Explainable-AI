{
  "cells": [
    {
      "cell_type": "markdown",
      "id": "b8e5ed62",
      "metadata": {
        "id": "b8e5ed62"
      },
      "source": [
        "#### <div>\n",
        "<img src=\"https://www.ul.ie/themes/custom/ul/logo.svg\" width=\"350\"/>\n",
        "</div>\n",
        "\n",
        "\n",
        "## CS6402  Probabilistic and Explainable AI\n",
        "## SEM2 2024/5\n",
        "\n",
        "### CS6402 Assignment 1 - Probability\n",
        "\n",
        "### Instructor: Emil Vassev\n",
        "Feb 19th, 2025\n",
        "<br><br>\n",
        "Copyright (C) 2025 - All rights reserved, do not copy or distribute without permission of the author.\n",
        "***"
      ]
    },
    {
      "cell_type": "markdown",
      "id": "6c2603d7",
      "metadata": {
        "id": "6c2603d7"
      },
      "source": [
        "## Submission Info\n",
        "### Student Name: Aryank\n",
        "### Student Surname: Gupta\n",
        "### Student ID: 24101613\n",
        "### Date of Final Submission: 1/03/2025\n"
      ]
    },
    {
      "cell_type": "markdown",
      "id": "b318400f",
      "metadata": {
        "id": "b318400f"
      },
      "source": [
        "# Task #1 (50%)"
      ]
    },
    {
      "cell_type": "markdown",
      "id": "a2b8d751",
      "metadata": {
        "id": "a2b8d751"
      },
      "source": [
        "## Introduction\n",
        "Suppose you have a bag full of diamonds of different cut, color, clarity. You draw diamonds without replacement.\n",
        "\n",
        "In this task, you are asked to implement a Python code that will determine the probability of getting diamonds of a specific cut, color and clarity.\n",
        "\n",
        "## The Dataset\n",
        "The diamonds data can be loaded from the online repository hosted by the seaborn Python library."
      ]
    },
    {
      "cell_type": "markdown",
      "id": "994d484c",
      "metadata": {
        "id": "994d484c"
      },
      "source": [
        "The provided dataset can be loaded as following:"
      ]
    },
    {
      "cell_type": "code",
      "execution_count": 1,
      "id": "3f30c0a2",
      "metadata": {
        "scrolled": true,
        "colab": {
          "base_uri": "https://localhost:8080/",
          "height": 363
        },
        "id": "3f30c0a2",
        "outputId": "dd4d972c-9d1e-4ee7-8d78-513ed7aa2baf"
      },
      "outputs": [
        {
          "output_type": "execute_result",
          "data": {
            "text/plain": [
              "   carat        cut color clarity  depth  table  price     x     y     z\n",
              "0   0.23      Ideal     E     SI2   61.5   55.0    326  3.95  3.98  2.43\n",
              "1   0.21    Premium     E     SI1   59.8   61.0    326  3.89  3.84  2.31\n",
              "2   0.23       Good     E     VS1   56.9   65.0    327  4.05  4.07  2.31\n",
              "3   0.29    Premium     I     VS2   62.4   58.0    334  4.20  4.23  2.63\n",
              "4   0.31       Good     J     SI2   63.3   58.0    335  4.34  4.35  2.75\n",
              "5   0.24  Very Good     J    VVS2   62.8   57.0    336  3.94  3.96  2.48\n",
              "6   0.24  Very Good     I    VVS1   62.3   57.0    336  3.95  3.98  2.47\n",
              "7   0.26  Very Good     H     SI1   61.9   55.0    337  4.07  4.11  2.53\n",
              "8   0.22       Fair     E     VS2   65.1   61.0    337  3.87  3.78  2.49\n",
              "9   0.23  Very Good     H     VS1   59.4   61.0    338  4.00  4.05  2.39"
            ],
            "text/html": [
              "\n",
              "  <div id=\"df-199db914-2732-48cf-bb6b-7e030e950c3a\" class=\"colab-df-container\">\n",
              "    <div>\n",
              "<style scoped>\n",
              "    .dataframe tbody tr th:only-of-type {\n",
              "        vertical-align: middle;\n",
              "    }\n",
              "\n",
              "    .dataframe tbody tr th {\n",
              "        vertical-align: top;\n",
              "    }\n",
              "\n",
              "    .dataframe thead th {\n",
              "        text-align: right;\n",
              "    }\n",
              "</style>\n",
              "<table border=\"1\" class=\"dataframe\">\n",
              "  <thead>\n",
              "    <tr style=\"text-align: right;\">\n",
              "      <th></th>\n",
              "      <th>carat</th>\n",
              "      <th>cut</th>\n",
              "      <th>color</th>\n",
              "      <th>clarity</th>\n",
              "      <th>depth</th>\n",
              "      <th>table</th>\n",
              "      <th>price</th>\n",
              "      <th>x</th>\n",
              "      <th>y</th>\n",
              "      <th>z</th>\n",
              "    </tr>\n",
              "  </thead>\n",
              "  <tbody>\n",
              "    <tr>\n",
              "      <th>0</th>\n",
              "      <td>0.23</td>\n",
              "      <td>Ideal</td>\n",
              "      <td>E</td>\n",
              "      <td>SI2</td>\n",
              "      <td>61.5</td>\n",
              "      <td>55.0</td>\n",
              "      <td>326</td>\n",
              "      <td>3.95</td>\n",
              "      <td>3.98</td>\n",
              "      <td>2.43</td>\n",
              "    </tr>\n",
              "    <tr>\n",
              "      <th>1</th>\n",
              "      <td>0.21</td>\n",
              "      <td>Premium</td>\n",
              "      <td>E</td>\n",
              "      <td>SI1</td>\n",
              "      <td>59.8</td>\n",
              "      <td>61.0</td>\n",
              "      <td>326</td>\n",
              "      <td>3.89</td>\n",
              "      <td>3.84</td>\n",
              "      <td>2.31</td>\n",
              "    </tr>\n",
              "    <tr>\n",
              "      <th>2</th>\n",
              "      <td>0.23</td>\n",
              "      <td>Good</td>\n",
              "      <td>E</td>\n",
              "      <td>VS1</td>\n",
              "      <td>56.9</td>\n",
              "      <td>65.0</td>\n",
              "      <td>327</td>\n",
              "      <td>4.05</td>\n",
              "      <td>4.07</td>\n",
              "      <td>2.31</td>\n",
              "    </tr>\n",
              "    <tr>\n",
              "      <th>3</th>\n",
              "      <td>0.29</td>\n",
              "      <td>Premium</td>\n",
              "      <td>I</td>\n",
              "      <td>VS2</td>\n",
              "      <td>62.4</td>\n",
              "      <td>58.0</td>\n",
              "      <td>334</td>\n",
              "      <td>4.20</td>\n",
              "      <td>4.23</td>\n",
              "      <td>2.63</td>\n",
              "    </tr>\n",
              "    <tr>\n",
              "      <th>4</th>\n",
              "      <td>0.31</td>\n",
              "      <td>Good</td>\n",
              "      <td>J</td>\n",
              "      <td>SI2</td>\n",
              "      <td>63.3</td>\n",
              "      <td>58.0</td>\n",
              "      <td>335</td>\n",
              "      <td>4.34</td>\n",
              "      <td>4.35</td>\n",
              "      <td>2.75</td>\n",
              "    </tr>\n",
              "    <tr>\n",
              "      <th>5</th>\n",
              "      <td>0.24</td>\n",
              "      <td>Very Good</td>\n",
              "      <td>J</td>\n",
              "      <td>VVS2</td>\n",
              "      <td>62.8</td>\n",
              "      <td>57.0</td>\n",
              "      <td>336</td>\n",
              "      <td>3.94</td>\n",
              "      <td>3.96</td>\n",
              "      <td>2.48</td>\n",
              "    </tr>\n",
              "    <tr>\n",
              "      <th>6</th>\n",
              "      <td>0.24</td>\n",
              "      <td>Very Good</td>\n",
              "      <td>I</td>\n",
              "      <td>VVS1</td>\n",
              "      <td>62.3</td>\n",
              "      <td>57.0</td>\n",
              "      <td>336</td>\n",
              "      <td>3.95</td>\n",
              "      <td>3.98</td>\n",
              "      <td>2.47</td>\n",
              "    </tr>\n",
              "    <tr>\n",
              "      <th>7</th>\n",
              "      <td>0.26</td>\n",
              "      <td>Very Good</td>\n",
              "      <td>H</td>\n",
              "      <td>SI1</td>\n",
              "      <td>61.9</td>\n",
              "      <td>55.0</td>\n",
              "      <td>337</td>\n",
              "      <td>4.07</td>\n",
              "      <td>4.11</td>\n",
              "      <td>2.53</td>\n",
              "    </tr>\n",
              "    <tr>\n",
              "      <th>8</th>\n",
              "      <td>0.22</td>\n",
              "      <td>Fair</td>\n",
              "      <td>E</td>\n",
              "      <td>VS2</td>\n",
              "      <td>65.1</td>\n",
              "      <td>61.0</td>\n",
              "      <td>337</td>\n",
              "      <td>3.87</td>\n",
              "      <td>3.78</td>\n",
              "      <td>2.49</td>\n",
              "    </tr>\n",
              "    <tr>\n",
              "      <th>9</th>\n",
              "      <td>0.23</td>\n",
              "      <td>Very Good</td>\n",
              "      <td>H</td>\n",
              "      <td>VS1</td>\n",
              "      <td>59.4</td>\n",
              "      <td>61.0</td>\n",
              "      <td>338</td>\n",
              "      <td>4.00</td>\n",
              "      <td>4.05</td>\n",
              "      <td>2.39</td>\n",
              "    </tr>\n",
              "  </tbody>\n",
              "</table>\n",
              "</div>\n",
              "    <div class=\"colab-df-buttons\">\n",
              "\n",
              "  <div class=\"colab-df-container\">\n",
              "    <button class=\"colab-df-convert\" onclick=\"convertToInteractive('df-199db914-2732-48cf-bb6b-7e030e950c3a')\"\n",
              "            title=\"Convert this dataframe to an interactive table.\"\n",
              "            style=\"display:none;\">\n",
              "\n",
              "  <svg xmlns=\"http://www.w3.org/2000/svg\" height=\"24px\" viewBox=\"0 -960 960 960\">\n",
              "    <path d=\"M120-120v-720h720v720H120Zm60-500h600v-160H180v160Zm220 220h160v-160H400v160Zm0 220h160v-160H400v160ZM180-400h160v-160H180v160Zm440 0h160v-160H620v160ZM180-180h160v-160H180v160Zm440 0h160v-160H620v160Z\"/>\n",
              "  </svg>\n",
              "    </button>\n",
              "\n",
              "  <style>\n",
              "    .colab-df-container {\n",
              "      display:flex;\n",
              "      gap: 12px;\n",
              "    }\n",
              "\n",
              "    .colab-df-convert {\n",
              "      background-color: #E8F0FE;\n",
              "      border: none;\n",
              "      border-radius: 50%;\n",
              "      cursor: pointer;\n",
              "      display: none;\n",
              "      fill: #1967D2;\n",
              "      height: 32px;\n",
              "      padding: 0 0 0 0;\n",
              "      width: 32px;\n",
              "    }\n",
              "\n",
              "    .colab-df-convert:hover {\n",
              "      background-color: #E2EBFA;\n",
              "      box-shadow: 0px 1px 2px rgba(60, 64, 67, 0.3), 0px 1px 3px 1px rgba(60, 64, 67, 0.15);\n",
              "      fill: #174EA6;\n",
              "    }\n",
              "\n",
              "    .colab-df-buttons div {\n",
              "      margin-bottom: 4px;\n",
              "    }\n",
              "\n",
              "    [theme=dark] .colab-df-convert {\n",
              "      background-color: #3B4455;\n",
              "      fill: #D2E3FC;\n",
              "    }\n",
              "\n",
              "    [theme=dark] .colab-df-convert:hover {\n",
              "      background-color: #434B5C;\n",
              "      box-shadow: 0px 1px 3px 1px rgba(0, 0, 0, 0.15);\n",
              "      filter: drop-shadow(0px 1px 2px rgba(0, 0, 0, 0.3));\n",
              "      fill: #FFFFFF;\n",
              "    }\n",
              "  </style>\n",
              "\n",
              "    <script>\n",
              "      const buttonEl =\n",
              "        document.querySelector('#df-199db914-2732-48cf-bb6b-7e030e950c3a button.colab-df-convert');\n",
              "      buttonEl.style.display =\n",
              "        google.colab.kernel.accessAllowed ? 'block' : 'none';\n",
              "\n",
              "      async function convertToInteractive(key) {\n",
              "        const element = document.querySelector('#df-199db914-2732-48cf-bb6b-7e030e950c3a');\n",
              "        const dataTable =\n",
              "          await google.colab.kernel.invokeFunction('convertToInteractive',\n",
              "                                                    [key], {});\n",
              "        if (!dataTable) return;\n",
              "\n",
              "        const docLinkHtml = 'Like what you see? Visit the ' +\n",
              "          '<a target=\"_blank\" href=https://colab.research.google.com/notebooks/data_table.ipynb>data table notebook</a>'\n",
              "          + ' to learn more about interactive tables.';\n",
              "        element.innerHTML = '';\n",
              "        dataTable['output_type'] = 'display_data';\n",
              "        await google.colab.output.renderOutput(dataTable, element);\n",
              "        const docLink = document.createElement('div');\n",
              "        docLink.innerHTML = docLinkHtml;\n",
              "        element.appendChild(docLink);\n",
              "      }\n",
              "    </script>\n",
              "  </div>\n",
              "\n",
              "\n",
              "<div id=\"df-e2383776-14f4-4517-932f-c779fc28d375\">\n",
              "  <button class=\"colab-df-quickchart\" onclick=\"quickchart('df-e2383776-14f4-4517-932f-c779fc28d375')\"\n",
              "            title=\"Suggest charts\"\n",
              "            style=\"display:none;\">\n",
              "\n",
              "<svg xmlns=\"http://www.w3.org/2000/svg\" height=\"24px\"viewBox=\"0 0 24 24\"\n",
              "     width=\"24px\">\n",
              "    <g>\n",
              "        <path d=\"M19 3H5c-1.1 0-2 .9-2 2v14c0 1.1.9 2 2 2h14c1.1 0 2-.9 2-2V5c0-1.1-.9-2-2-2zM9 17H7v-7h2v7zm4 0h-2V7h2v10zm4 0h-2v-4h2v4z\"/>\n",
              "    </g>\n",
              "</svg>\n",
              "  </button>\n",
              "\n",
              "<style>\n",
              "  .colab-df-quickchart {\n",
              "      --bg-color: #E8F0FE;\n",
              "      --fill-color: #1967D2;\n",
              "      --hover-bg-color: #E2EBFA;\n",
              "      --hover-fill-color: #174EA6;\n",
              "      --disabled-fill-color: #AAA;\n",
              "      --disabled-bg-color: #DDD;\n",
              "  }\n",
              "\n",
              "  [theme=dark] .colab-df-quickchart {\n",
              "      --bg-color: #3B4455;\n",
              "      --fill-color: #D2E3FC;\n",
              "      --hover-bg-color: #434B5C;\n",
              "      --hover-fill-color: #FFFFFF;\n",
              "      --disabled-bg-color: #3B4455;\n",
              "      --disabled-fill-color: #666;\n",
              "  }\n",
              "\n",
              "  .colab-df-quickchart {\n",
              "    background-color: var(--bg-color);\n",
              "    border: none;\n",
              "    border-radius: 50%;\n",
              "    cursor: pointer;\n",
              "    display: none;\n",
              "    fill: var(--fill-color);\n",
              "    height: 32px;\n",
              "    padding: 0;\n",
              "    width: 32px;\n",
              "  }\n",
              "\n",
              "  .colab-df-quickchart:hover {\n",
              "    background-color: var(--hover-bg-color);\n",
              "    box-shadow: 0 1px 2px rgba(60, 64, 67, 0.3), 0 1px 3px 1px rgba(60, 64, 67, 0.15);\n",
              "    fill: var(--button-hover-fill-color);\n",
              "  }\n",
              "\n",
              "  .colab-df-quickchart-complete:disabled,\n",
              "  .colab-df-quickchart-complete:disabled:hover {\n",
              "    background-color: var(--disabled-bg-color);\n",
              "    fill: var(--disabled-fill-color);\n",
              "    box-shadow: none;\n",
              "  }\n",
              "\n",
              "  .colab-df-spinner {\n",
              "    border: 2px solid var(--fill-color);\n",
              "    border-color: transparent;\n",
              "    border-bottom-color: var(--fill-color);\n",
              "    animation:\n",
              "      spin 1s steps(1) infinite;\n",
              "  }\n",
              "\n",
              "  @keyframes spin {\n",
              "    0% {\n",
              "      border-color: transparent;\n",
              "      border-bottom-color: var(--fill-color);\n",
              "      border-left-color: var(--fill-color);\n",
              "    }\n",
              "    20% {\n",
              "      border-color: transparent;\n",
              "      border-left-color: var(--fill-color);\n",
              "      border-top-color: var(--fill-color);\n",
              "    }\n",
              "    30% {\n",
              "      border-color: transparent;\n",
              "      border-left-color: var(--fill-color);\n",
              "      border-top-color: var(--fill-color);\n",
              "      border-right-color: var(--fill-color);\n",
              "    }\n",
              "    40% {\n",
              "      border-color: transparent;\n",
              "      border-right-color: var(--fill-color);\n",
              "      border-top-color: var(--fill-color);\n",
              "    }\n",
              "    60% {\n",
              "      border-color: transparent;\n",
              "      border-right-color: var(--fill-color);\n",
              "    }\n",
              "    80% {\n",
              "      border-color: transparent;\n",
              "      border-right-color: var(--fill-color);\n",
              "      border-bottom-color: var(--fill-color);\n",
              "    }\n",
              "    90% {\n",
              "      border-color: transparent;\n",
              "      border-bottom-color: var(--fill-color);\n",
              "    }\n",
              "  }\n",
              "</style>\n",
              "\n",
              "  <script>\n",
              "    async function quickchart(key) {\n",
              "      const quickchartButtonEl =\n",
              "        document.querySelector('#' + key + ' button');\n",
              "      quickchartButtonEl.disabled = true;  // To prevent multiple clicks.\n",
              "      quickchartButtonEl.classList.add('colab-df-spinner');\n",
              "      try {\n",
              "        const charts = await google.colab.kernel.invokeFunction(\n",
              "            'suggestCharts', [key], {});\n",
              "      } catch (error) {\n",
              "        console.error('Error during call to suggestCharts:', error);\n",
              "      }\n",
              "      quickchartButtonEl.classList.remove('colab-df-spinner');\n",
              "      quickchartButtonEl.classList.add('colab-df-quickchart-complete');\n",
              "    }\n",
              "    (() => {\n",
              "      let quickchartButtonEl =\n",
              "        document.querySelector('#df-e2383776-14f4-4517-932f-c779fc28d375 button');\n",
              "      quickchartButtonEl.style.display =\n",
              "        google.colab.kernel.accessAllowed ? 'block' : 'none';\n",
              "    })();\n",
              "  </script>\n",
              "</div>\n",
              "\n",
              "    </div>\n",
              "  </div>\n"
            ],
            "application/vnd.google.colaboratory.intrinsic+json": {
              "type": "dataframe",
              "variable_name": "df",
              "summary": "{\n  \"name\": \"df\",\n  \"rows\": 53940,\n  \"fields\": [\n    {\n      \"column\": \"carat\",\n      \"properties\": {\n        \"dtype\": \"number\",\n        \"std\": 0.47401124440538067,\n        \"min\": 0.2,\n        \"max\": 5.01,\n        \"num_unique_values\": 273,\n        \"samples\": [\n          0.77,\n          1.58,\n          0.65\n        ],\n        \"semantic_type\": \"\",\n        \"description\": \"\"\n      }\n    },\n    {\n      \"column\": \"cut\",\n      \"properties\": {\n        \"dtype\": \"category\",\n        \"num_unique_values\": 5,\n        \"samples\": [\n          \"Premium\",\n          \"Fair\",\n          \"Good\"\n        ],\n        \"semantic_type\": \"\",\n        \"description\": \"\"\n      }\n    },\n    {\n      \"column\": \"color\",\n      \"properties\": {\n        \"dtype\": \"category\",\n        \"num_unique_values\": 7,\n        \"samples\": [\n          \"E\",\n          \"I\",\n          \"G\"\n        ],\n        \"semantic_type\": \"\",\n        \"description\": \"\"\n      }\n    },\n    {\n      \"column\": \"clarity\",\n      \"properties\": {\n        \"dtype\": \"category\",\n        \"num_unique_values\": 8,\n        \"samples\": [\n          \"SI1\",\n          \"VVS1\",\n          \"SI2\"\n        ],\n        \"semantic_type\": \"\",\n        \"description\": \"\"\n      }\n    },\n    {\n      \"column\": \"depth\",\n      \"properties\": {\n        \"dtype\": \"number\",\n        \"std\": 1.4326213188337733,\n        \"min\": 43.0,\n        \"max\": 79.0,\n        \"num_unique_values\": 184,\n        \"samples\": [\n          61.0,\n          62.9,\n          70.2\n        ],\n        \"semantic_type\": \"\",\n        \"description\": \"\"\n      }\n    },\n    {\n      \"column\": \"table\",\n      \"properties\": {\n        \"dtype\": \"number\",\n        \"std\": 2.234490562820938,\n        \"min\": 43.0,\n        \"max\": 95.0,\n        \"num_unique_values\": 127,\n        \"samples\": [\n          54.8,\n          61.5,\n          57.6\n        ],\n        \"semantic_type\": \"\",\n        \"description\": \"\"\n      }\n    },\n    {\n      \"column\": \"price\",\n      \"properties\": {\n        \"dtype\": \"number\",\n        \"std\": 3989,\n        \"min\": 326,\n        \"max\": 18823,\n        \"num_unique_values\": 11602,\n        \"samples\": [\n          16368,\n          895,\n          748\n        ],\n        \"semantic_type\": \"\",\n        \"description\": \"\"\n      }\n    },\n    {\n      \"column\": \"x\",\n      \"properties\": {\n        \"dtype\": \"number\",\n        \"std\": 1.1217607467924422,\n        \"min\": 0.0,\n        \"max\": 10.74,\n        \"num_unique_values\": 554,\n        \"samples\": [\n          5.88,\n          5.69,\n          4.61\n        ],\n        \"semantic_type\": \"\",\n        \"description\": \"\"\n      }\n    },\n    {\n      \"column\": \"y\",\n      \"properties\": {\n        \"dtype\": \"number\",\n        \"std\": 1.1421346741235396,\n        \"min\": 0.0,\n        \"max\": 58.9,\n        \"num_unique_values\": 552,\n        \"samples\": [\n          5.33,\n          5.61,\n          5.25\n        ],\n        \"semantic_type\": \"\",\n        \"description\": \"\"\n      }\n    },\n    {\n      \"column\": \"z\",\n      \"properties\": {\n        \"dtype\": \"number\",\n        \"std\": 0.7056988469499964,\n        \"min\": 0.0,\n        \"max\": 31.8,\n        \"num_unique_values\": 375,\n        \"samples\": [\n          3.36,\n          2.45,\n          2.7\n        ],\n        \"semantic_type\": \"\",\n        \"description\": \"\"\n      }\n    }\n  ]\n}"
            }
          },
          "metadata": {},
          "execution_count": 1
        }
      ],
      "source": [
        "import seaborn as sns\n",
        "\n",
        "df = sns.load_dataset('diamonds')\n",
        "\n",
        "df.head(10)"
      ]
    },
    {
      "cell_type": "markdown",
      "id": "4f8572aa",
      "metadata": {
        "id": "4f8572aa"
      },
      "source": [
        "## Computing Probability\n",
        "\n",
        "Use the ```fractions``` library, which provides support for rational number arithmetic. Use the ```compute_probability``` function to calculate probability.\n",
        "\n",
        "For more information on ```fractions```, please consult the reference page here: https://docs.python.org/3/library/fractions.html#fractions.Fraction"
      ]
    },
    {
      "cell_type": "code",
      "execution_count": 2,
      "id": "00ad1603",
      "metadata": {
        "id": "00ad1603"
      },
      "outputs": [],
      "source": [
        "from fractions import Fraction\n",
        "\n",
        "cases = len # the number of cases is the length, or size, of a set\n",
        "favorable = set.intersection # outcomes that are in the event and in the sample space\n",
        "\n",
        "def compute_probability(event, space): ### The probability of an event, given a sample space.\n",
        "\n",
        "    result = Fraction(cases(favorable(event, space)), cases(space))\n",
        "    probability = result.numerator / result.denominator\n",
        "\n",
        "    return probability"
      ]
    },
    {
      "cell_type": "markdown",
      "id": "a2788722",
      "metadata": {
        "id": "a2788722"
      },
      "source": [
        "# Step 1: Determine the Sample Space Parameters.  (5%)"
      ]
    },
    {
      "cell_type": "markdown",
      "id": "b7ad3798",
      "metadata": {
        "id": "b7ad3798"
      },
      "source": [
        "<span style=\"color:red\">TODO</span>\n",
        "\n",
        "Define the Diamonds Sample Space as:\n",
        "* total number of diamonds\n",
        "* total number of diamonds in category of cut\n",
        "* total number of diamonds in category of color\n",
        "* total number of diamonds in category of clarity"
      ]
    },
    {
      "cell_type": "code",
      "execution_count": 3,
      "id": "54e75194",
      "metadata": {
        "colab": {
          "base_uri": "https://localhost:8080/"
        },
        "id": "54e75194",
        "outputId": "7579cfaa-08bc-4202-8762-891ac8e6a822"
      },
      "outputs": [
        {
          "output_type": "stream",
          "name": "stdout",
          "text": [
            "Total number of diamonds: 53940\n",
            "\n",
            "Total number of diamonds in each cut category:\n",
            " {'Ideal': 21551, 'Premium': 13791, 'Very Good': 12082, 'Good': 4906, 'Fair': 1610}\n",
            "\n",
            "Total number of diamonds in each color category:\n",
            " {'G': 11292, 'E': 9797, 'F': 9542, 'H': 8304, 'D': 6775, 'I': 5422, 'J': 2808}\n",
            "\n",
            "Total number of diamonds in each clarity category:\n",
            " {'SI1': 13065, 'VS2': 12258, 'SI2': 9194, 'VS1': 8171, 'VVS2': 5066, 'VVS1': 3655, 'IF': 1790, 'I1': 741}\n"
          ]
        }
      ],
      "source": [
        "# Total number of diamonds\n",
        "total_diamonds = df.shape[0]  # More directly accessing the number of rows\n",
        "\n",
        "# Total number of diamonds in each category of cut using value_counts() directly\n",
        "total_cut = df['cut'].value_counts().to_dict()\n",
        "\n",
        "# Total number of diamonds in each category of color\n",
        "total_color = df['color'].value_counts().to_dict()\n",
        "\n",
        "# Total number of diamonds in each category of clarity\n",
        "total_clarity = df['clarity'].value_counts().to_dict()\n",
        "\n",
        "# Print the results to verify\n",
        "print(\"Total number of diamonds:\", total_diamonds)\n",
        "print(\"\\nTotal number of diamonds in each cut category:\\n\", total_cut)\n",
        "print(\"\\nTotal number of diamonds in each color category:\\n\", total_color)\n",
        "print(\"\\nTotal number of diamonds in each clarity category:\\n\", total_clarity)\n"
      ]
    },
    {
      "cell_type": "markdown",
      "id": "cca74de4",
      "metadata": {
        "id": "cca74de4"
      },
      "source": [
        "# Step 2: Implement the Sample Space.  (15%)\n",
        "\n",
        "<span style=\"color:red\">TODO</span>\n",
        "\n",
        "Implement a loop that will read the dataframe ```df``` and complete the ```diamonds``` sample space. The sample space must contain strings describing each diamond in the bag in terms of cut, color, and clarity."
      ]
    },
    {
      "cell_type": "code",
      "execution_count": 4,
      "id": "06ff9d0c",
      "metadata": {
        "colab": {
          "base_uri": "https://localhost:8080/"
        },
        "id": "06ff9d0c",
        "outputId": "b22dfaa9-5d91-41ca-98af-9131ca24f6c5"
      },
      "outputs": [
        {
          "output_type": "stream",
          "name": "stdout",
          "text": [
            "Diamond 0: Cut: Ideal, Color: E, Clarity: SI2\n",
            "Diamond 1: Cut: Premium, Color: E, Clarity: SI1\n",
            "Diamond 2: Cut: Good, Color: E, Clarity: VS1\n",
            "Diamond 3: Cut: Premium, Color: I, Clarity: VS2\n",
            "Diamond 4: Cut: Good, Color: J, Clarity: SI2\n",
            "Diamond 5: Cut: Very Good, Color: J, Clarity: VVS2\n",
            "Diamond 6: Cut: Very Good, Color: I, Clarity: VVS1\n",
            "Diamond 7: Cut: Very Good, Color: H, Clarity: SI1\n",
            "Diamond 8: Cut: Fair, Color: E, Clarity: VS2\n",
            "Diamond 9: Cut: Very Good, Color: H, Clarity: VS1\n"
          ]
        }
      ],
      "source": [
        "diamonds = {}\n",
        "\n",
        "for i in range(len(df)):\n",
        "    cut = df.loc[i, 'cut']\n",
        "    color = df.loc[i, 'color']\n",
        "    clarity = df.loc[i, 'clarity']\n",
        "\n",
        "    diamond_description = f\"Cut: {cut}, Color: {color}, Clarity: {clarity}\"\n",
        "\n",
        "    diamonds[i] = diamond_description\n",
        "\n",
        "# Print the first 10 diamond descriptions\n",
        "for i in range(10):\n",
        "    print(f\"Diamond {i}: {diamonds[i]}\")\n"
      ]
    },
    {
      "cell_type": "markdown",
      "id": "166837cf",
      "metadata": {
        "id": "166837cf"
      },
      "source": [
        "# Step 3: Implement Events and Compute Probabilites.  (30%)"
      ]
    },
    {
      "cell_type": "markdown",
      "id": "86ef8954",
      "metadata": {
        "id": "86ef8954"
      },
      "source": [
        "## Step 3.1: Compute the Probability of Drawing Five Diamonds with \"Ideal\" Cut Consecutively?   (10%)\n",
        "\n",
        "<span style=\"color:red\">TODO</span>\n",
        "\n",
        "* implement the event \"diamonds with ideal cut\"\n",
        "* compute the probability of drawing five diamonds with \"ideal\" cut consecutively and without replacement"
      ]
    },
    {
      "cell_type": "code",
      "execution_count": 5,
      "id": "9c0e9131",
      "metadata": {
        "colab": {
          "base_uri": "https://localhost:8080/"
        },
        "id": "9c0e9131",
        "outputId": "4356f48a-8f7b-44dc-aa0c-3606020d3bf8"
      },
      "outputs": [
        {
          "output_type": "stream",
          "name": "stdout",
          "text": [
            "Probability of drawing five diamonds with 'ideal' cut consecutively: 0.010177975640258418\n"
          ]
        }
      ],
      "source": [
        "ev_diamonds_with_ideal_cut = {}\n",
        "\n",
        "# Implement the event \"diamonds with ideal cut\"\n",
        "ev_diamonds_with_ideal_cut = {k: v for k, v in diamonds.items() if 'Cut: Ideal' in v}\n",
        "\n",
        "# Compute the probability of drawing five diamonds with \"ideal\" cut consecutively and without replacement\n",
        "total_ideal_cut = len(ev_diamonds_with_ideal_cut)\n",
        "total_diamonds = len(diamonds)\n",
        "\n",
        "# Probability of the first diamond having an ideal cut\n",
        "prob_1 = total_ideal_cut / total_diamonds\n",
        "\n",
        "# Probability of the second diamond having an ideal cut (given the first was ideal)\n",
        "prob_2 = (total_ideal_cut - 1) / (total_diamonds - 1)\n",
        "\n",
        "# ... and so on for the next three diamonds\n",
        "prob_3 = (total_ideal_cut - 2) / (total_diamonds - 2)\n",
        "prob_4 = (total_ideal_cut - 3) / (total_diamonds - 3)\n",
        "prob_5 = (total_ideal_cut - 4) / (total_diamonds - 4)\n",
        "\n",
        "# Total probability (multiplying the individual probabilities)\n",
        "total_prob = prob_1 * prob_2 * prob_3 * prob_4 * prob_5\n",
        "\n",
        "print(f\"Probability of drawing five diamonds with 'ideal' cut consecutively: {total_prob}\")"
      ]
    },
    {
      "cell_type": "markdown",
      "id": "e3e37974",
      "metadata": {
        "id": "e3e37974"
      },
      "source": [
        "## Step 3.2: Compute the Probability of Drawing Five Diamonds with \"SI2\" Clarity Consecutively?   (10%)\n",
        "\n",
        "<span style=\"color:red\">TODO</span>\n",
        "\n",
        "* implement the event \"diamonds with SI2 clarity\"\n",
        "* compute the probability of drawing five diamonds with \"SI2\" clarity consecutively and without replacement"
      ]
    },
    {
      "cell_type": "code",
      "execution_count": 6,
      "id": "b868fe7f",
      "metadata": {
        "colab": {
          "base_uri": "https://localhost:8080/"
        },
        "id": "b868fe7f",
        "outputId": "a8ebad32-be3e-4b97-bc64-6fcb56c089a5"
      },
      "outputs": [
        {
          "output_type": "stream",
          "name": "stdout",
          "text": [
            "Probability of drawing five diamonds with 'SI2' clarity consecutively: 0.000144\n"
          ]
        }
      ],
      "source": [
        "ev_diamonds_with_si2_clarity = {}\n",
        "\n",
        "# Filter diamonds with SI2 clarity using list comprehension\n",
        "diamonds_with_si2_clarity = {k: v for k, v in diamonds.items() if 'Clarity: SI2' in v}\n",
        "\n",
        "# Calculate the total number of diamonds with SI2 clarity and the total number of diamonds\n",
        "num_si2 = len(diamonds_with_si2_clarity)\n",
        "total_diamonds = len(diamonds)\n",
        "\n",
        "# Compute the probability of drawing five diamonds with SI2 clarity consecutively without replacement\n",
        "probabilities = [(num_si2 - i) / (total_diamonds - i) for i in range(5)]\n",
        "total_prob_si2 = 1\n",
        "for prob in probabilities:\n",
        "    total_prob_si2 *= prob\n",
        "\n",
        "print(f\"Probability of drawing five diamonds with 'SI2' clarity consecutively: {total_prob_si2:.6f}\")\n"
      ]
    },
    {
      "cell_type": "markdown",
      "id": "091a85d3",
      "metadata": {
        "id": "091a85d3"
      },
      "source": [
        "## Step 3.3: Compute the Probability of Drawing Five Diamonds with \"E\" Color Consecutively?   (5%)\n",
        "\n",
        "<span style=\"color:red\">TODO</span>\n",
        "\n",
        "* implement the event \"diamonds with E color\"\n",
        "* compute the probability of drawing five diamonds with \"E\" color consecutively and without replacement"
      ]
    },
    {
      "cell_type": "code",
      "execution_count": 7,
      "id": "14a76e9c",
      "metadata": {
        "colab": {
          "base_uri": "https://localhost:8080/"
        },
        "id": "14a76e9c",
        "outputId": "76ed0946-dc1d-44df-f11f-c2457839ff40"
      },
      "outputs": [
        {
          "output_type": "stream",
          "name": "stdout",
          "text": [
            "Probability of drawing five diamonds with 'E' color consecutively: 0.000197\n"
          ]
        }
      ],
      "source": [
        "ev_diamonds_with_e_color = {}\n",
        "\n",
        "# Filter diamonds with E color using dictionary comprehension\n",
        "diamonds_with_e_color = {k: v for k, v in diamonds.items() if 'Color: E' in v}\n",
        "\n",
        "# Calculate the total number of diamonds with E color and the total number of diamonds\n",
        "num_e_color = len(diamonds_with_e_color)\n",
        "total_diamonds = len(diamonds)\n",
        "\n",
        "# Compute the probability of drawing five diamonds with E color consecutively without replacement\n",
        "probabilities = [(num_e_color - i) / (total_diamonds - i) for i in range(5)]\n",
        "total_prob_e_color = 1\n",
        "for prob in probabilities:\n",
        "    total_prob_e_color *= prob\n",
        "\n",
        "print(f\"Probability of drawing five diamonds with 'E' color consecutively: {total_prob_e_color:.6f}\")\n"
      ]
    },
    {
      "cell_type": "markdown",
      "id": "88e4a35e",
      "metadata": {
        "id": "88e4a35e"
      },
      "source": [
        "## Step 3.4: Compute the Probability of Drawing Five Diamonds with \"Ideal\" cut, \"SI2\" Clarity, and \"E\" Color Consecutively?   (5%)\n",
        "\n",
        "<span style=\"color:red\">TODO</span>\n",
        "\n",
        "* implement the event \"diamonds with Ideal cut, SI2 clarity, and E color\"\n",
        "* compute the probability of drawing five diamonds with \"Ideal\" cut, \"SI2\" clarity, and \"E\" color consecutively and without replacement"
      ]
    },
    {
      "cell_type": "code",
      "execution_count": 8,
      "id": "5dd3b951",
      "metadata": {
        "colab": {
          "base_uri": "https://localhost:8080/"
        },
        "id": "5dd3b951",
        "outputId": "b0867915-6681-427c-d727-a5a0f774c32c"
      },
      "outputs": [
        {
          "output_type": "stream",
          "name": "stdout",
          "text": [
            "Probability of drawing five diamonds with 'Ideal' cut, 'SI2' clarity, and 'E' color consecutively: 4.865195002375008e-11\n"
          ]
        }
      ],
      "source": [
        "ev_diamonds_with_ideal_cut_si2_clarity_e_color = {}\n",
        "\n",
        "# Implement the event \"diamonds with Ideal cut, SI2 clarity, and E color\"\n",
        "ev_diamonds_with_ideal_cut_si2_clarity_e_color = {\n",
        "    k: v for k, v in diamonds.items()\n",
        "    if 'Cut: Ideal' in v and 'Clarity: SI2' in v and 'Color: E' in v\n",
        "}\n",
        "\n",
        "# Compute the probability of drawing five diamonds with \"Ideal\" cut, \"SI2\" clarity, and \"E\" color consecutively and without replacement\n",
        "total_ideal_si2_e = len(ev_diamonds_with_ideal_cut_si2_clarity_e_color)\n",
        "total_diamonds = len(diamonds)\n",
        "\n",
        "# Probability of the first diamond having the desired properties\n",
        "prob_1 = total_ideal_si2_e / total_diamonds\n",
        "\n",
        "# Probability of the second diamond having the desired properties (given the first was also desired)\n",
        "prob_2 = (total_ideal_si2_e - 1) / (total_diamonds - 1)\n",
        "\n",
        "# ... and so on for the next three diamonds\n",
        "prob_3 = (total_ideal_si2_e - 2) / (total_diamonds - 2)\n",
        "prob_4 = (total_ideal_si2_e - 3) / (total_diamonds - 3)\n",
        "prob_5 = (total_ideal_si2_e - 4) / (total_diamonds - 4)\n",
        "\n",
        "# Total probability (multiplying the individual probabilities)\n",
        "total_prob_ideal_si2_e = prob_1 * prob_2 * prob_3 * prob_4 * prob_5\n",
        "\n",
        "print(f\"Probability of drawing five diamonds with 'Ideal' cut, 'SI2' clarity, and 'E' color consecutively: {total_prob_ideal_si2_e}\")"
      ]
    },
    {
      "cell_type": "markdown",
      "id": "bae5914f",
      "metadata": {
        "id": "bae5914f"
      },
      "source": [
        "# Task #2 (50%)"
      ]
    },
    {
      "cell_type": "markdown",
      "id": "ba12e85c",
      "metadata": {
        "id": "ba12e85c"
      },
      "source": [
        "## Introduction\n",
        "\n",
        "### Milk Production in Limerick, Ireland\n",
        "\n",
        "Mr. Collins, an Irish farmer from Limerick, has a herd of 12 dairy cows. He is producing milk daily and measures the litres of milk his cows produce for a month. Below is the milk produced for the last month, per cow.\n",
        "\n",
        "Milk = [651, 374, 601, 401, 767, 450, 342, 677, 567, 687, 445, 512]\n",
        "\n",
        "Mr. Collins would like to know how much milk a cow is expected to produce on average.\n",
        "\n",
        "For this, a statistician friend looks at the county production of milk, considering the entire population of dairy caws in Limerick. In Limerick County, there **125,411** dairy caws with a lowest monthly milk production for a caw of **245** litres and maximum milk production of **878** litres. The monthly milk production is measured in **whole litres**.\n",
        "\n",
        "\n",
        "The statistician decides to use the Bayesian Inference technique where milk is assumed to be normally distributed for the prior and likelihood distributions. For the milk spread in Limerick (normalization factor), the statistician decides to use the uniform distribution.\n",
        "\n",
        "\n",
        "Calculate the posterior milk distribution for Mr. Collins's farm. For the population of dairy caws in Ireland and their milk production per month, use the **numpy.linspace()** method."
      ]
    },
    {
      "cell_type": "markdown",
      "id": "35ce8807",
      "metadata": {
        "id": "35ce8807"
      },
      "source": [
        "## Bayesian Inference\n",
        "\n",
        "Inference - using statistics to deduce properties about a probability distribution from data.\n",
        "\n",
        "Bayes’ Theorem works not on events but on distributions:\n",
        "* Θ - set of parameters\n",
        "* P(Θ) - prior distribution, or distribution of our belief about the true value of Θ\n",
        "* P(Θ|data) - posterior distribution, or distribution of our belief about Θ after we have taken the observed data into account\n",
        "* P(data|Θ) - likelihood distribution measures the degree to which data supports Θ\n",
        "* P(data) - normalization distribution, i.e., is the total probability of the data taking into account all possible hypotheses\n",
        "<pre>\n",
        "              P(data|Θ) * P(Θ)\n",
        "   P(Θ|data) = -----------------\n",
        "\t\t          P(data)                                 \n",
        "</pre>"
      ]
    },
    {
      "cell_type": "markdown",
      "id": "5c0ef8ee",
      "metadata": {
        "id": "5c0ef8ee"
      },
      "source": [
        "## Your Solution to Task #2 (50%)"
      ]
    },
    {
      "cell_type": "code",
      "execution_count": 10,
      "id": "901189c5",
      "metadata": {
        "colab": {
          "base_uri": "https://localhost:8080/",
          "height": 522
        },
        "id": "901189c5",
        "outputId": "40e387c2-1ebe-4221-9c95-cc97d2d9202b"
      },
      "outputs": [
        {
          "output_type": "display_data",
          "data": {
            "text/plain": [
              "<Figure size 1000x500 with 1 Axes>"
            ],
            "image/png": "[encoded data removed]"
          },
          "metadata": {}
        },
        {
          "output_type": "stream",
          "name": "stdout",
          "text": [
            "Posterior Mean: 542.60\n",
            "Posterior Standard Deviation: 128.65\n"
          ]
        }
      ],
      "source": [
        "import numpy as np\n",
        "import scipy.stats as stats\n",
        "import matplotlib.pyplot as plt\n",
        "\n",
        "# Mr. Collins's data\n",
        "milk_data = np.array([651, 374, 601, 401, 767, 450, 342, 677, 567, 687, 445, 512])\n",
        "\n",
        "# Prior information: Uniform distribution assumptions\n",
        "lower_bound = 245\n",
        "upper_bound = 878\n",
        "prior_range = np.linspace(lower_bound, upper_bound, 1000)\n",
        "prior_pdf = np.full(prior_range.shape, 1 / (upper_bound - lower_bound))  # Uniform distribution\n",
        "\n",
        "# Likelihood information: Assuming normal distribution of observed data\n",
        "likelihood_mean = np.mean(milk_data)\n",
        "likelihood_std = np.std(milk_data, ddof=1)  # Using sample standard deviation\n",
        "likelihood_pdf = stats.norm.pdf(prior_range, likelihood_mean, likelihood_std)\n",
        "\n",
        "# Posterior distribution: Proportional to the product of likelihood and prior\n",
        "posterior_pdf = likelihood_pdf * prior_pdf\n",
        "posterior_pdf /= np.trapz(posterior_pdf, prior_range)  # Normalize\n",
        "\n",
        "# Visualizing the results\n",
        "plt.figure(figsize=(10, 5))\n",
        "plt.plot(prior_range, prior_pdf, label='Prior (Uniform)', linestyle='--')\n",
        "plt.plot(prior_range, likelihood_pdf, label='Likelihood (Normal)', linestyle='-.')\n",
        "plt.plot(prior_range, posterior_pdf, label='Posterior', linewidth=2)\n",
        "plt.xlabel('Milk Production (litres)')\n",
        "plt.ylabel('Density')\n",
        "plt.title('Bayesian Inference of Milk Production')\n",
        "plt.legend()\n",
        "plt.grid(True)\n",
        "plt.show()\n",
        "\n",
        "# Calculating the posterior mean and variance\n",
        "posterior_mean = np.trapz(posterior_pdf * prior_range, prior_range)\n",
        "posterior_variance = np.trapz(posterior_pdf * (prior_range - posterior_mean)**2, prior_range)\n",
        "posterior_std = np.sqrt(posterior_variance)\n",
        "\n",
        "print(f\"Posterior Mean: {posterior_mean:.2f}\")\n",
        "print(f\"Posterior Standard Deviation: {posterior_std:.2f}\")\n"
      ]
    }
  ],
  "metadata": {
    "kernelspec": {
      "display_name": "Python 3 (ipykernel)",
      "language": "python",
      "name": "python3"
    },
    "language_info": {
      "codemirror_mode": {
        "name": "ipython",
        "version": 3
      },
      "file_extension": ".py",
      "mimetype": "text/x-python",
      "name": "python",
      "nbconvert_exporter": "python",
      "pygments_lexer": "ipython3",
      "version": "3.11.5"
    },
    "colab": {
      "provenance": []
    }
  },
  "nbformat": 4,
  "nbformat_minor": 5
}