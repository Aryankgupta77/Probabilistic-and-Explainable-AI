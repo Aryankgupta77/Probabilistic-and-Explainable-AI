{
 "cells": [
  {
   "cell_type": "markdown",
   "id": "23c6d81e",
   "metadata": {},
   "source": [
    "\n",
    "# Distribution Methods\n",
    "\n",
    "by Emil Vassev\n",
    "\n",
    "February 17, 2025\n",
    "<br><br>\n",
    "Copyright (C) 2025 - All rights reserved, do not copy or distribute without permission of the author.\n",
    "***"
   ]
  },
  {
   "cell_type": "markdown",
   "id": "752d6b4d",
   "metadata": {},
   "source": [
    "<span style=\"color:blue\">Welcome to <b>Distributions with Python</b>, an interactive lecture designed to give you experience with distribution methods in Python.</span>"
   ]
  },
  {
   "cell_type": "markdown",
   "id": "a70f18d2",
   "metadata": {},
   "source": [
    "## Normal Distribution\n",
    "\n",
    "Normal distribution (Gaussian distribution), is a probability distribution that appears as a \"bell curve\" when graphed. The normal distribution *describes a symmetrical plot of data* around its *mean* value, where the width of the curve is defined by the *standard deviation*.\n",
    "\n",
    "In the case of a normal distribution, the formula for the **probability density function** is:\n",
    "\n",
    "$$P(data| \\mu, \\sigma) = \\frac{1}{\\sqrt{2 \\pi \\sigma^2}} \\cdot e^{-\\frac{(data - \\mu)^2}{2 \\sigma^2}}$$\n",
    "\n",
    "If we plot it, we obtain the famous bell curve.\n"
   ]
  },
  {
   "cell_type": "markdown",
   "id": "9e880bf4",
   "metadata": {},
   "source": [
    "## Mean μ"
   ]
  },
  {
   "cell_type": "markdown",
   "id": "27116a1c",
   "metadata": {},
   "source": [
    "The mean of a probability distribution is the long-run arithmetic average value of a random variable having that distribution. If the random variable is denoted by *X*, then the *mean* is also known as the expected value of *X* (denoted *E(X)*). \n",
    " \n",
    "For a discrete probability distribution, the mean is given by *∑xP(x)*, where the sum is taken over all possible values of the random variable and P(x) is the probability mass function."
   ]
  },
  {
   "cell_type": "markdown",
   "id": "52741e59",
   "metadata": {},
   "source": [
    "## Standard Deviation 𝜎\n",
    "\n",
    "In statistics:\n",
    "* standard deviation is a measure of the amount of variation of the values of a variable about its **mean**\n",
    "* low standard deviation indicates that the values tend to be close to the mean of the set\n",
    "* high standard deviation indicates that the values are spread out over a wider range"
   ]
  },
  {
   "cell_type": "markdown",
   "id": "7ca6cbdf",
   "metadata": {},
   "source": [
    "The standard deviation of a random variable, sample, statistical population, data set, or probability distribution is the **square root** of its variance."
   ]
  },
  {
   "cell_type": "markdown",
   "id": "502407b5",
   "metadata": {},
   "source": [
    "* **sample standard deviation** - when only a sample of data from a population is available\n",
    "* **population standard deviation** - the standard deviation of the entire population"
   ]
  },
  {
   "cell_type": "markdown",
   "id": "51773aed",
   "metadata": {},
   "source": [
    "### Example (Wikipedia)"
   ]
  },
  {
   "cell_type": "markdown",
   "id": "d5f72a4a",
   "metadata": {},
   "source": [
    "The entire population is composed of eight students in a particular class. For a finite set of numbers, the population standard deviation is found by taking the square root of the average of the squared deviations of the values subtracted from their average value. The marks of a class of eight students (that is, a statistical population) are the following eight values:\n",
    "\n",
    "$$\n",
    "2, 4, 4, 4, 5, 5, 7, 9\n",
    "$$\n",
    "\n",
    "These eight data points have the mean (average) of 5:\n",
    "\n",
    "$$\n",
    "μ=\\frac{2+4+4+4+5+5+7+9}{8}=\\frac{40}{8} = 5\n",
    "$$\n",
    "\n",
    "First, calculate the deviations of each data point from the mean, and square the result of each:\n",
    "\n",
    "\\begin{array}{lll}(2-5)^{2}=(-3)^{2}=9&&(5-5)^{2}=0^{2}=0\\\\(4-5)^{2}=(-1)^{2}=1&&(5-5)^{2}=0^{2}=0\\\\(4-5)^{2}=(-1)^{2}=1&&(7-5)^{2}=2^{2}=4\\\\(4-5)^{2}=(-1)^{2}=1&&(9-5)^{2}=4^{2}=16\\\\\\end{array}\n",
    "\n",
    "The variance is the mean of these values:\n",
    "\n",
    "$$\n",
    "\\sigma ^{2}={\\frac {9+1+1+1+0+0+4+16}{8}}={\\frac {32}{8}}=4\n",
    "$$\n",
    "\n",
    "and the population standard deviation is equal to the square root of the variance:\n",
    "\n",
    "$$\n",
    "\\sigma ={\\sqrt {4}}=2\n",
    "$$"
   ]
  },
  {
   "cell_type": "markdown",
   "id": "b8571db0",
   "metadata": {},
   "source": [
    "If the marks were a random sample drawn from some large complete population (for example, there were 8 students randomly and independently chosen from a class of 20), then we divide by n − 1 instead of n. And the result is: \n",
    "\n",
    "$$\n",
    "s={\\sqrt {32/7}}\\approx 2.1\n",
    "$$"
   ]
  },
  {
   "cell_type": "markdown",
   "id": "e2a231b2",
   "metadata": {},
   "source": [
    "### Implementation in Python"
   ]
  },
  {
   "cell_type": "markdown",
   "id": "9300b25f",
   "metadata": {},
   "source": [
    "#### Using statistics.stdev and statistics.pstdev"
   ]
  },
  {
   "cell_type": "markdown",
   "id": "7ae89965",
   "metadata": {},
   "source": [
    "* *statistics.stdev()* - calculates the standard deviation from a sample of data\n",
    "* *statistics.pstdev()* - method calculates the standard deviation for the entire population"
   ]
  },
  {
   "cell_type": "code",
   "execution_count": 1,
   "id": "32a603e6",
   "metadata": {},
   "outputs": [
    {
     "name": "stdout",
     "output_type": "stream",
     "text": [
      "Standard Deviation of sample is 2.138089935299395 \n"
     ]
    }
   ],
   "source": [
    "# Python code to demonstrate stdev() function\n",
    " \n",
    "# importing Statistics module\n",
    "import statistics\n",
    " \n",
    "# creating a simple data set\n",
    "sample = [2, 4, 4, 4, 5, 5, 7, 9]\n",
    " \n",
    "# Prints standard deviation\n",
    "print(\"Standard Deviation of sample is % s \"\n",
    "                % (statistics.stdev(sample)))"
   ]
  },
  {
   "cell_type": "code",
   "execution_count": 2,
   "id": "67bf9d1c",
   "metadata": {},
   "outputs": [
    {
     "name": "stdout",
     "output_type": "stream",
     "text": [
      "Standard Deviation of population is 2.0 \n"
     ]
    }
   ],
   "source": [
    "# creating a population data set\n",
    "population = sample\n",
    "\n",
    "# Prints standard deviation\n",
    "print(\"Standard Deviation of population is % s \"\n",
    "                % (statistics.pstdev(population)))"
   ]
  },
  {
   "cell_type": "markdown",
   "id": "7508a958",
   "metadata": {},
   "source": [
    "#### Using NumPy\n",
    "NumPy is a powerful library for numerical computations and provides a function to calculate the standard deviation."
   ]
  },
  {
   "cell_type": "code",
   "execution_count": 3,
   "id": "a6431fa5",
   "metadata": {},
   "outputs": [
    {
     "name": "stdout",
     "output_type": "stream",
     "text": [
      "Standard Deviation of sample is 2.138089935299395 \n"
     ]
    }
   ],
   "source": [
    "import numpy as np\n",
    "\n",
    "std_dev = np.std(sample, ddof=1)  # ddof=1 for sample standard deviation\n",
    "\n",
    "# Prints standard deviation\n",
    "print(\"Standard Deviation of sample is % s \"\n",
    "                % (std_dev))"
   ]
  },
  {
   "cell_type": "code",
   "execution_count": 4,
   "id": "16295cc0",
   "metadata": {},
   "outputs": [
    {
     "name": "stdout",
     "output_type": "stream",
     "text": [
      "Standard Deviation of population is 2.0 \n"
     ]
    }
   ],
   "source": [
    "std_dev = np.std(sample, ddof=0)  # ddof=0 for population standard deviation\n",
    "\n",
    "# Prints standard deviation\n",
    "print(\"Standard Deviation of population is % s \"\n",
    "                % (std_dev))"
   ]
  },
  {
   "cell_type": "markdown",
   "id": "5ade72c5",
   "metadata": {},
   "source": [
    "#### Manual Calculation\n",
    "\n",
    "You can calculate the standard deviation manually by following the formula:\n",
    "\n",
    "$$ \\sigma = \\sqrt{\\frac{1}{N-1} \\sum_{i=1}^{N} (x_i - \\mu)^2} $$"
   ]
  },
  {
   "cell_type": "code",
   "execution_count": 5,
   "id": "29944050",
   "metadata": {},
   "outputs": [
    {
     "name": "stdout",
     "output_type": "stream",
     "text": [
      "Standard Deviation of sample is 2.138089935299395 \n"
     ]
    }
   ],
   "source": [
    "import math\n",
    "\n",
    "mean = sum(sample) / len(sample)\n",
    "variance = sum((x - mean) ** 2 for x in sample) / (len(sample) - 1)\n",
    "std_dev = math.sqrt(variance)\n",
    "\n",
    "print(\"Standard Deviation of sample is % s \"\n",
    "                % (std_dev))"
   ]
  },
  {
   "cell_type": "code",
   "execution_count": 6,
   "id": "feeea4b1",
   "metadata": {},
   "outputs": [
    {
     "name": "stdout",
     "output_type": "stream",
     "text": [
      "Standard Deviation of population is 2.0 \n"
     ]
    }
   ],
   "source": [
    "variance = sum((x - mean) ** 2 for x in sample) / len(sample)\n",
    "std_dev = math.sqrt(variance)\n",
    "\n",
    "print(\"Standard Deviation of population is % s \"\n",
    "                % (std_dev))"
   ]
  },
  {
   "cell_type": "markdown",
   "id": "6a60e809",
   "metadata": {},
   "source": [
    "### Calculate the Normal Distribution $P(sample|𝜇,𝜎)$ \n",
    "\n",
    "The probability of obtaining the $sample$ from normal distribution with a specific set of parameters $\\mu$ and $\\sigma$)."
   ]
  },
  {
   "cell_type": "code",
   "execution_count": 7,
   "id": "d0d56f36",
   "metadata": {},
   "outputs": [],
   "source": [
    "import scipy.stats as st\n",
    "\n",
    "def compute_normal_distrbution(data, mu, sigma):\n",
    "    return st.norm.pdf(data, mu, sigma)\n"
   ]
  },
  {
   "cell_type": "code",
   "execution_count": 8,
   "id": "7a8ce45d",
   "metadata": {},
   "outputs": [
    {
     "name": "stdout",
     "output_type": "stream",
     "text": [
      "[0.0697229  0.16725655 0.16725655 0.16725655 0.18658817 0.18658817\n",
      " 0.12047037 0.03242416]\n"
     ]
    }
   ],
   "source": [
    "std_dev = np.std(sample, ddof=1)  # ddof=1 for sample standard deviation\n",
    "\n",
    "mean = sum(sample) / len(sample)\n",
    "pNormal= compute_normal_distrbution(sample, mean, std_dev)\n",
    "\n",
    "print(pNormal)"
   ]
  },
  {
   "cell_type": "markdown",
   "id": "25a543bc",
   "metadata": {},
   "source": [
    "The probability of each value of \n",
    "\n",
    "$sample$ = [2, 4, 4, 4, 5, 5, 7, 9]\n",
    "\n",
    "generated by a Normal distribution with mean 5 and standard deviation 2.1 is:\n",
    "\n",
    "[0.0697229  0.16725655 0.16725655 0.16725655 0.18658817 0.18658817\n",
    " 0.12047037 0.03242416]"
   ]
  },
  {
   "cell_type": "code",
   "execution_count": 9,
   "id": "727d5cd8",
   "metadata": {},
   "outputs": [
    {
     "data": {
      "image/png": "[encoded data removed]",
      "text/plain": [
       "<Figure size 640x480 with 1 Axes>"
      ]
     },
     "metadata": {},
     "output_type": "display_data"
    }
   ],
   "source": [
    "import matplotlib.pyplot as plt\n",
    "plt.plot(sample, pNormal)\n",
    "plt.show()"
   ]
  },
  {
   "cell_type": "code",
   "execution_count": 10,
   "id": "ec9469e9",
   "metadata": {},
   "outputs": [
    {
     "name": "stdout",
     "output_type": "stream",
     "text": [
      "[0.0647588  0.17603266 0.17603266 0.17603266 0.19947114 0.19947114\n",
      " 0.12098536 0.02699548]\n"
     ]
    }
   ],
   "source": [
    "std_dev = np.std(sample, ddof=0)  # ddof=0 for population standard deviation\n",
    "\n",
    "mean = sum(sample) / len(sample)\n",
    "pNormal= compute_normal_distrbution(sample, mean, std_dev)\n",
    "\n",
    "print(pNormal)"
   ]
  },
  {
   "cell_type": "code",
   "execution_count": 11,
   "id": "37ae48f2",
   "metadata": {},
   "outputs": [
    {
     "data": {
      "image/png": "[encoded data removed]",
      "text/plain": [
       "<Figure size 640x480 with 1 Axes>"
      ]
     },
     "metadata": {},
     "output_type": "display_data"
    }
   ],
   "source": [
    "plt.plot(sample, pNormal)\n",
    "plt.show()"
   ]
  },
  {
   "cell_type": "markdown",
   "id": "611cdc8a",
   "metadata": {},
   "source": [
    "## Poisson Distribution\n",
    "\n",
    "The Poisson distribution is named after French mathematician Siméon Denis Poisson.\n",
    "\n",
    "It describes the *probability of obtaining k successes during a given time interval*.\n",
    "\n",
    "If a random variable *X* follows a Poisson distribution, then the probability that *X = k* successes can be found by the following formula:\n",
    "\n",
    "$$\n",
    "P(X=k) = {\\frac {\\lambda ^{k}e^{-\\lambda }}{k!}}\n",
    "$$\n",
    "\n",
    "where:\n",
    "\n",
    "* λ: mean number of successes that occur during a specific interval\n",
    "* k: number of successes\n",
    "* e: the euler constant = 2.71828"
   ]
  },
  {
   "cell_type": "markdown",
   "id": "c53a6db7",
   "metadata": {},
   "source": [
    "### Example\n",
    "\n",
    "The number of students achieving a low mark in exams is: \n",
    "\n",
    "$$\n",
    "2, 4, 4, 4, 5, 5, 7, 9\n",
    "$$\n",
    "\n",
    "These eight data points have the mean (average) of 5:\n",
    "\n",
    "$$\n",
    "μ=\\frac{2+4+4+4+5+5+7+9}{8}=\\frac{40}{8} = 5\n",
    "$$\n",
    "\n"
   ]
  },
  {
   "cell_type": "markdown",
   "id": "57a96eea",
   "metadata": {},
   "source": [
    "### Implementation in Python - scipy.stats.poisson\n"
   ]
  },
  {
   "cell_type": "code",
   "execution_count": 12,
   "id": "0a488d0e",
   "metadata": {},
   "outputs": [],
   "source": [
    "from scipy.stats import poisson\n",
    "\n",
    "def compute_poisson_distrbution(data, mu):\n",
    "    return poisson.pmf(data, mu)\n",
    "\n"
   ]
  },
  {
   "cell_type": "code",
   "execution_count": 13,
   "id": "0d42e5ac",
   "metadata": {},
   "outputs": [
    {
     "name": "stdout",
     "output_type": "stream",
     "text": [
      "[0.08422434 0.17546737 0.17546737 0.17546737 0.17546737 0.17546737\n",
      " 0.10444486 0.03626558]\n"
     ]
    }
   ],
   "source": [
    "pPoisson= compute_poisson_distrbution(sample, mean)\n",
    "\n",
    "print(pPoisson)"
   ]
  },
  {
   "cell_type": "code",
   "execution_count": 14,
   "id": "5d311a48",
   "metadata": {},
   "outputs": [
    {
     "data": {
      "image/png": "[encoded data removed]",
      "text/plain": [
       "<Figure size 640x480 with 1 Axes>"
      ]
     },
     "metadata": {},
     "output_type": "display_data"
    }
   ],
   "source": [
    "plt.plot(sample, pPoisson)\n",
    "plt.show()"
   ]
  },
  {
   "cell_type": "markdown",
   "id": "4258d804",
   "metadata": {},
   "source": [
    "The probability of each value of \n",
    "\n",
    "$sample$ = [2, 4, 4, 4, 5, 5, 7, 9]\n",
    "\n",
    "generated by a Poisson distribution with mean 5 is:\n",
    "\n",
    "[0.08422434 0.17546737 0.17546737 0.17546737 0.17546737 0.17546737\n",
    " 0.10444486 0.03626558]"
   ]
  },
  {
   "cell_type": "markdown",
   "id": "84e9cdbd",
   "metadata": {},
   "source": [
    "## Beta Distribution"
   ]
  },
  {
   "cell_type": "markdown",
   "id": "ac52e4ab",
   "metadata": {},
   "source": [
    "Beta distribution is a *continuous probability distribution* useful for modeling events that have probabilistic behavior bound between 0 and 1, such as proportions and probabilities. \n",
    "\n",
    "It is used in Bayesian statistics to usually represent uncertainty about a *probability parameter*. For example, we might use the Beta distribution to model the probability of success in a sequence of trials, or to express prior beliefs in Bayesian inference.\n",
    "\n",
    "Beta distribution is defined over the interval [0,1] and is parameterized by two shape parameters α and β - form the distribution’s shape. The density function (or PDF) of the Beta distribution is:\n",
    "\n",
    "\n",
    "<img src=\"images/beta-dist.png\" alt=\"Beta Distribution PDF\" width=\"250\"/>\n",
    "\n",
    "\n",
    "Here, B( α,β) is the Beta function, acting as a normalization constant to ensure the PDF integrates to 1. "
   ]
  },
  {
   "cell_type": "markdown",
   "id": "8741257c",
   "metadata": {},
   "source": [
    "### Example\n",
    "\n",
    "The percentage of marks distribiution for CS6462 is: \n",
    "\n",
    "$$\n",
    "0.5, 0.15, 0.25, 0.35, 0.05, 0.05, 0.05, 0.05\n",
    "$$\n"
   ]
  },
  {
   "cell_type": "markdown",
   "id": "1456a172",
   "metadata": {},
   "source": [
    "### Implementation in Python - scipy.stats.beta"
   ]
  },
  {
   "cell_type": "code",
   "execution_count": 15,
   "id": "4b773bd9",
   "metadata": {},
   "outputs": [],
   "source": [
    "from scipy.stats import beta\n",
    "\n",
    "sample = [0.01,0.03,0.05,0.05,0.11,0.15,0.25,0.35]\n",
    "\n",
    "def compute_beta_distrbution(data, a, b):\n",
    "    return beta.pdf(data, a, b)"
   ]
  },
  {
   "cell_type": "code",
   "execution_count": 16,
   "id": "cbeca61d",
   "metadata": {},
   "outputs": [],
   "source": [
    "a, b = 2.31, 0.627"
   ]
  },
  {
   "cell_type": "code",
   "execution_count": 17,
   "id": "f457c013",
   "metadata": {},
   "outputs": [
    {
     "name": "stdout",
     "output_type": "stream",
     "text": [
      "[0.00270847 0.01150958 0.02264938 0.02264938 0.06519263 0.09956412\n",
      " 0.20370427 0.33389432]\n"
     ]
    }
   ],
   "source": [
    "pBeta = compute_beta_distrbution(sample, a, b)\n",
    "\n",
    "print(pBeta)"
   ]
  },
  {
   "cell_type": "code",
   "execution_count": 18,
   "id": "316c1624",
   "metadata": {},
   "outputs": [
    {
     "data": {
      "image/png": "[encoded data removed]",
      "text/plain": [
       "<Figure size 640x480 with 1 Axes>"
      ]
     },
     "metadata": {},
     "output_type": "display_data"
    }
   ],
   "source": [
    "plt.plot(sample, pBeta)\n",
    "plt.show()"
   ]
  },
  {
   "cell_type": "markdown",
   "id": "bd53dc44",
   "metadata": {},
   "source": [
    "The probability of each value of \n",
    "\n",
    "$sample$ = [0.01,0.03,0.05,0.05,0.11,0.15,0.25,0.35]\n",
    "\n",
    "generated by a Poisson distribution with shape parameters a = 2.31, b = 0.627 is:\n",
    "\n",
    "[0.00270847 0.01150958 0.02264938 0.02264938 0.06519263 0.09956412\n",
    " 0.20370427 0.33389432]"
   ]
  },
  {
   "cell_type": "code",
   "execution_count": 19,
   "id": "75503e39",
   "metadata": {},
   "outputs": [
    {
     "name": "stdout",
     "output_type": "stream",
     "text": [
      "[6.0602205  2.86141488 2.02712321 2.02712321 1.20552696 0.99011155\n",
      " 0.72926253 0.60986923]\n"
     ]
    }
   ],
   "source": [
    "a, b = 0.31, 0.627\n",
    "\n",
    "pBeta = compute_beta_distrbution(sample, a, b)\n",
    "\n",
    "print(pBeta)"
   ]
  },
  {
   "cell_type": "code",
   "execution_count": 20,
   "id": "89003f0e",
   "metadata": {},
   "outputs": [
    {
     "data": {
      "image/png": "[encoded data removed]",
      "text/plain": [
       "<Figure size 640x480 with 1 Axes>"
      ]
     },
     "metadata": {},
     "output_type": "display_data"
    }
   ],
   "source": [
    "plt.plot(sample, pBeta)\n",
    "plt.show()"
   ]
  },
  {
   "cell_type": "code",
   "execution_count": null,
   "id": "cdc3d3ca",
   "metadata": {},
   "outputs": [],
   "source": []
  },
  {
   "cell_type": "code",
   "execution_count": null,
   "id": "d548cb7c",
   "metadata": {},
   "outputs": [],
   "source": []
  }
 ],
 "metadata": {
  "kernelspec": {
   "display_name": "Python 3 (ipykernel)",
   "language": "python",
   "name": "python3"
  },
  "language_info": {
   "codemirror_mode": {
    "name": "ipython",
    "version": 3
   },
   "file_extension": ".py",
   "mimetype": "text/x-python",
   "name": "python",
   "nbconvert_exporter": "python",
   "pygments_lexer": "ipython3",
   "version": "3.11.5"
  }
 },
 "nbformat": 4,
 "nbformat_minor": 5
}
