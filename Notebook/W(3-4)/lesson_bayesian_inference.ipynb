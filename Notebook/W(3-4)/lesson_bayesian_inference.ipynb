{
 "cells": [
  {
   "cell_type": "markdown",
   "id": "23c6d81e",
   "metadata": {},
   "source": [
    "\n",
    "# Bayesian Inference\n",
    "\n",
    "by Emil Vassev\n",
    "\n",
    "February 9, 2023\n",
    "<br><br>\n",
    "Copyright (C) 2023 - All rights reserved, do not copy or distribute without permission of the author.\n",
    "***"
   ]
  },
  {
   "cell_type": "markdown",
   "id": "752d6b4d",
   "metadata": {},
   "source": [
    "<span style=\"color:blue\">Welcome to <b>Introduction to Bayesian Inference with Python</b>, an interactive lecture designed to give you examples of implementing Bayesian Inference problems in Python.</span>"
   ]
  },
  {
   "cell_type": "markdown",
   "id": "a70f18d2",
   "metadata": {},
   "source": [
    "## Bayes’ Theorem\n",
    "\n",
    "A principled way of calculating a conditional probability without using the composite probability P(E∩F).\n",
    "\n",
    "<pre>\n",
    "              P(F|E) * P(E)\n",
    "   P(E|F) = -----------------\n",
    "\t\t          P(F)                                 \n",
    "</pre>\n",
    "\n",
    "Terms:\n",
    "* P(E|F): Posterior probability\n",
    "* P(E): Prior probability\n",
    "* P(F|E): Likelihood probability\n",
    "* P(F): Evidence probability\n",
    "\n",
    "If we do not have a direct access to the denominator P(F), we can calculate it by using the partition rule:\n",
    "\n",
    "<pre>\n",
    "   P(F) = P(F∩E)  + P(F∩E<sup>c</sup>) \n",
    "</pre>\n",
    "\n",
    "<pre>\n",
    "   P(F) = P(E)*P(F|E) + P(E<sup>c</sup>)*P(F|E<sup>c</sup>)\n",
    "</pre>\n",
    "\n",
    "<pre>\n",
    "                      P(F|E) * P(E)\n",
    "   P(E|F) = --------------------------------\n",
    "\t\t       P(E)*P(F|E) + P(E<sup>c</sup>)*P(F|E<sup>c</sup>)     \n",
    "</pre>\n"
   ]
  },
  {
   "cell_type": "markdown",
   "id": "b14b68ab",
   "metadata": {},
   "source": [
    "<span style=\"color:red\">Bayes’ Theorem cannot be used for independent events as we need to determine the total probability and there is no dependency of events.</span>"
   ]
  },
  {
   "cell_type": "markdown",
   "id": "27116a1c",
   "metadata": {},
   "source": [
    "Example:\n",
    "```python\n",
    "X: Find out the probability of having a liver disease if patients are an alcoholic. \n",
    "    \n",
    "Litmus test for liver disease:\n",
    "* P(A) = 0.10 (past data tells you that 10% of patients entering your clinic “have liver disease”)\n",
    "* P(B) = 0.05 (5% of the clinic’s “patients are alcoholics”)\n",
    "* P(B|A) = 0.07 (among those patients diagnosed with liver disease, 7% are alcoholics)\n",
    "* P(A|B) = ?\n",
    "\n",
    "              P(B|A) * P(A)       0.07 * 0.10\n",
    "   P(A|B) = ----------------- = ----------------- = 0.14 = 14% \n",
    "\t\t          P(B)                0.05\n",
    "```"
   ]
  },
  {
   "cell_type": "markdown",
   "id": "52741e59",
   "metadata": {},
   "source": [
    "## Bayes' Theorem in Python\n",
    "\n",
    "We can create the following simple functions to implement Bayes’ Theorem in Python:"
   ]
  },
  {
   "cell_type": "code",
   "execution_count": 1,
   "id": "32a603e6",
   "metadata": {},
   "outputs": [],
   "source": [
    "def bayes_theorem_1(pA, pB, pBA):\n",
    "    return (pBA * pA) / pB\n",
    "\n",
    "\n",
    "def bayes_theorem_2(pA, pBA, pAc, pBAc):\n",
    "    return (pBA * pA) / (pA*pBA + pAc*pBAc)"
   ]
  },
  {
   "cell_type": "code",
   "execution_count": 2,
   "id": "5e4d4b6f",
   "metadata": {},
   "outputs": [
    {
     "name": "stdout",
     "output_type": "stream",
     "text": [
      "0.14\n"
     ]
    }
   ],
   "source": [
    "pA = 0.10 #past data tells you that 10% of patients entering your clinic “have liver disease”\n",
    "pB = 0.05 #5% of the clinic’s “patients are alcoholics”\n",
    "pBA = 0.07 #among those patients diagnosed with liver disease, 7% are alcoholics\n",
    "\n",
    "pAB = bayes_theorem_1(pA, pB, pBA)\n",
    "\n",
    "print(pAB)"
   ]
  },
  {
   "cell_type": "markdown",
   "id": "e4cf8f9a",
   "metadata": {},
   "source": [
    "Example: \n",
    "```python\n",
    "X: There are two bags. Bag I has 7 red and 4 blue balls and bag II has 5 red and 9 blue balls. We draw a ball at random and it turns out to be red. Determine the probability that the ball was from the bag I using the Bayes’ Theorem.\n",
    "\n",
    "Events:    \n",
    "* X – ball is from bag I \n",
    "* Y – ball is from bag II\n",
    "* A – red ball \n",
    "* P(X) = P(Y) = ½\n",
    "* P(A|X) = 7/11\n",
    "* P(A|Y) = 5/14\n",
    "* P(X|A) = ?\n",
    "* P(A) is missing\n",
    "```\n",
    "<pre>\n",
    "\n",
    "              P(A|X) * P(X)              P(A|X) * P(X)\n",
    "   P(X|A) = ----------------- = ------------------------------  \n",
    "\t\t          P(A)            P(X)*P(A|X) + P(X<sup>c</sup>)*P(A|X<sup>c</sup>) \n",
    "</pre>\n",
    "\n",
    "```python\n",
    "                     P(A|X) * P(X)                  7/11*1/2            0.31818181818\n",
    "   P(X|A) = ------------------------------ = ---------------------- = ------------------ = 0.64052287581\n",
    "\t\t      P(X)*P(A|X) + P(Y)*P(A|Y)        1/2*7/11 + 1/2*5/14      0.49675324675\n",
    "\n",
    "```"
   ]
  },
  {
   "cell_type": "code",
   "execution_count": 3,
   "id": "b49e654b",
   "metadata": {},
   "outputs": [
    {
     "name": "stdout",
     "output_type": "stream",
     "text": [
      "0.6405228758169935\n"
     ]
    }
   ],
   "source": [
    "pX = pY = pXc = 1/2\n",
    "pAX = 7/11\n",
    "pAXc = pAY = 5/14\n",
    "\n",
    "pXA = bayes_theorem_2(pX, pAX, pXc, pAXc)\n",
    "\n",
    "print(pXA)"
   ]
  },
  {
   "cell_type": "markdown",
   "id": "d88db81d",
   "metadata": {},
   "source": [
    "## Probability Distribution for a Random Variable\n",
    "\n",
    "* Describes how the probabilities are distributed over the values of the random variable.\n",
    "* For a discrete random variable X the probability distribution is defined by a *probability mass function* (PMF), denoted by Fx(X). \n",
    "* Fx(X) - provides the probability for each value of the random variable \n",
    "```\n",
    "\tFx(X) = px(x) = P(X=x) for each x within the range of X\n",
    "    \n",
    "    Here P(X=x) is the probability of X=x\n",
    "```\n",
    "\n",
    "Rules for mass function Fx(X) for a discrete random variable X:\n",
    "1. Fx(X) ≥ 0 - must be nonnegative for each value of the random variable X\n",
    "2. Σx px(x) = 1 , sum of probabilities for each value of the random variable must = 1"
   ]
  },
  {
   "cell_type": "markdown",
   "id": "93c2b90c",
   "metadata": {},
   "source": [
    "## Bayesian Inference\n",
    "\n",
    "Inference - using statistics to deduce properties about a probability distribution from data.\n",
    "\n",
    "Bayes’ Theorem works not on events but on distributions:\n",
    "* Θ - set of parameters\n",
    "* P(Θ) - prior distribution, or distribution of our belief about the true value of Θ\n",
    "* P(Θ|data) - posterior distribution, or distribution of our belief about Θ after we have taken the observed data into account\n",
    "* P(data|Θ) - likelihood distribution measures the degree to which data supports Θ\n",
    "* P(data) - normalization distribution, i.e., is the total probability of the data taking into account all possible hypotheses \n",
    "<pre>\n",
    "              P(data|Θ) * P(Θ)\n",
    "   P(Θ|data) = -----------------\n",
    "\t\t          P(data)                                 \n",
    "</pre>"
   ]
  },
  {
   "cell_type": "markdown",
   "id": "a4a52c02",
   "metadata": {},
   "source": [
    "When we have some data, we need to decide on the model used to generate our data. \n",
    "\n",
    "Deciding which model to use can be obvious, but also it could be the most complex part of the inference problem:\n",
    "\n",
    "* *Normal* distribution when modelling natural phenomena like human heights.\n",
    "* *Beta* distribution when modelling probability distributions.\n",
    "* *Poisson* distribution when modelling the frequency of events occurring.\n",
    "\n",
    "Each of these distribution has parameters Θ:\n",
    "* $\\alpha$ and $\\beta$ for the Beta distribution\n",
    "* $\\lambda$ for the Poisson\n",
    "* $\\mu$ and $\\sigma$ for the Normal distribution\n",
    "\n",
    "The goal of inference is to find the best values for these parameters."
   ]
  },
  {
   "cell_type": "markdown",
   "id": "0d72a1f7",
   "metadata": {},
   "source": [
    "Example (this example is an elaborated version of <a href = \"https://notebook.community/datapythonista/datapythonista.github.io/docs/Bayesian%20inference%20tutorial\" target=\"new\">Bayesian inference tutorial: a hello world example</a>:\n",
    "\n",
    "* Data: $data$ = [166, 168, 170, 172, 174, 176, 178, 180, 182, 184]\n",
    "* A model: the normal distribution\n",
    "* The parameters of the model: $\\mu$ (mean) and $\\sigma$ (standard deviation)\n",
    "\n",
    "Objective: Find the best values for $\\mu$ and $\\sigma$ for the $data$, e.g., $\\mu=175$ and $\\sigma=5$"
   ]
  },
  {
   "cell_type": "markdown",
   "id": "a2481411",
   "metadata": {},
   "source": [
    "Objective: Find $Θ$ = {$\\mu$, $\\sigma$}, so to calculate the highest probability P(Θ|data)\n",
    "\n",
    "* P(Θ) - prior distribution, or distribution of our belief about the true value of Θ\n",
    "* P(Θ|data) - posterior distribution, or distribution of our belief about Θ after we have taken the observed data into account\n",
    "* P(data|Θ) - likelihood distribution measures the degree to which data supports Θ\n"
   ]
  },
  {
   "cell_type": "code",
   "execution_count": 4,
   "id": "5c5d07aa",
   "metadata": {},
   "outputs": [],
   "source": [
    "sample = [150, 156, 160, 162, 168, 174, 178, 180, 182, 184]"
   ]
  },
  {
   "cell_type": "markdown",
   "id": "011ba760",
   "metadata": {},
   "source": [
    "### Calculate the Prior Distribution  $𝑃(Θ)$\n",
    "\n",
    "The prior distribution - knowledge of the parameters before we observe the $data$. Here, we need to know the nature of our data, and eventualy use a uniform distribution (probability distribution with equally likely outcomes) for the prior distribution and let the process find the parameters by using the data.\n",
    "\n",
    "If we look at the data, this could be data of human heights. Considering the maximum known human height, which is 272 cm, the range could be between $40$cm and $272$cm. \n",
    "\n",
    "In the case of a normal distribution, the formula to compute the probability given $x$ (its probability density function) is:\n",
    "\n",
    "$$P(data|\\theta) = P(data| \\mu, \\sigma) = \\frac{1}{\\sqrt{2 \\pi \\sigma^2}} \\cdot e^{-\\frac{(data - \\mu)^2}{2 \\sigma^2}}$$\n",
    "\n",
    "What we need, is a set of parameters $\\mu$ (mean) and $\\sigma$ (standard deviation) for the prior normal distribution:\n",
    "* The mean of the height of the world population is 165 cm. \n",
    "* The standard deviation of the world population is 7 cm."
   ]
  },
  {
   "cell_type": "code",
   "execution_count": 5,
   "id": "e189abaa",
   "metadata": {
    "scrolled": true
   },
   "outputs": [
    {
     "name": "stdout",
     "output_type": "stream",
     "text": [
      "[3.25410544e-71 4.12946824e-70 5.13444479e-69 6.25503426e-68\n",
      " 7.46625373e-67 8.73197823e-66 1.00059745e-64 1.12342216e-63\n",
      " 1.23584335e-62 1.33205058e-61 1.40674328e-60 1.45561269e-59\n",
      " 1.47575296e-58 1.46594725e-57 1.42678938e-56 1.36062435e-55\n",
      " 1.27131584e-54 1.16387282e-53 1.04398544e-52 9.17529851e-52\n",
      " 7.90101364e-51 6.66626030e-50 5.51084977e-49 4.46366633e-48\n",
      " 3.54243362e-47 2.75453672e-46 2.09861252e-45 1.56658080e-44\n",
      " 1.14580361e-43 8.21115824e-43 5.76548045e-42 3.96646323e-41\n",
      " 2.67367250e-40 1.76583383e-39 1.14268968e-38 7.24508731e-38\n",
      " 4.50086296e-37 2.73958515e-36 1.63384428e-35 9.54714176e-35\n",
      " 5.46604152e-34 3.06626248e-33 1.68532079e-32 9.07596214e-32\n",
      " 4.78894247e-31 2.47584477e-30 1.25413431e-29 6.22445795e-29\n",
      " 3.02688465e-28 1.44220518e-27 6.73279017e-27 3.07964003e-26\n",
      " 1.38019890e-25 6.06066457e-25 2.60756814e-24 1.09922838e-23\n",
      " 4.54022152e-23 1.83739700e-22 7.28560814e-22 2.83051501e-21\n",
      " 1.07746200e-20 4.01860493e-20 1.46853908e-19 5.25814493e-19\n",
      " 1.84466048e-18 6.34069963e-18 2.13547635e-17 7.04675542e-17\n",
      " 2.27835019e-16 7.21753012e-16 2.24023501e-15 6.81295313e-15\n",
      " 2.03008429e-14 5.92692711e-14 1.69543815e-13 4.75194233e-13\n",
      " 1.30496006e-12 3.51123684e-12 9.25677862e-12 2.39109305e-11\n",
      " 6.05159597e-11 1.50065279e-10 3.64608981e-10 8.67983264e-10\n",
      " 2.02456716e-09 4.62689743e-09 1.03605880e-08 2.27308556e-08\n",
      " 4.88634366e-08 1.02917465e-07 2.12388502e-07 4.29447194e-07\n",
      " 8.50795894e-07 1.65149722e-06 3.14099437e-06 5.85319933e-06\n",
      " 1.06870125e-05 1.91186037e-05 3.35114230e-05 5.75527945e-05\n",
      " 9.68449122e-05 1.59670267e-04 2.57933730e-04 4.08252708e-04\n",
      " 6.33121202e-04 9.62014211e-04 1.43223065e-03 2.08920612e-03\n",
      " 2.98597703e-03 4.18146515e-03 5.73729721e-03 7.71299522e-03\n",
      " 1.01595769e-02 1.31118820e-02 1.65802581e-02 2.05425518e-02\n",
      " 2.49375820e-02 2.96613654e-02 3.45672464e-02 3.94707408e-02\n",
      " 4.41593444e-02 4.84068480e-02 5.19909602e-02 5.47123943e-02\n",
      " 5.64131628e-02 5.69917543e-02 5.64131628e-02 5.47123943e-02\n",
      " 5.19909602e-02 4.84068480e-02 4.41593444e-02 3.94707408e-02\n",
      " 3.45672464e-02 2.96613654e-02 2.49375820e-02 2.05425518e-02\n",
      " 1.65802581e-02 1.31118820e-02 1.01595769e-02 7.71299522e-03\n",
      " 5.73729721e-03 4.18146515e-03 2.98597703e-03 2.08920612e-03\n",
      " 1.43223065e-03 9.62014211e-04 6.33121202e-04 4.08252708e-04\n",
      " 2.57933730e-04 1.59670267e-04 9.68449122e-05 5.75527945e-05\n",
      " 3.35114230e-05 1.91186037e-05 1.06870125e-05 5.85319933e-06\n",
      " 3.14099437e-06 1.65149722e-06 8.50795894e-07 4.29447194e-07\n",
      " 2.12388502e-07 1.02917465e-07 4.88634366e-08 2.27308556e-08\n",
      " 1.03605880e-08 4.62689743e-09 2.02456716e-09 8.67983264e-10\n",
      " 3.64608981e-10 1.50065279e-10 6.05159597e-11 2.39109305e-11\n",
      " 9.25677862e-12 3.51123684e-12 1.30496006e-12 4.75194233e-13\n",
      " 1.69543815e-13 5.92692711e-14 2.03008429e-14 6.81295313e-15\n",
      " 2.24023501e-15 7.21753012e-16 2.27835019e-16 7.04675542e-17\n",
      " 2.13547635e-17 6.34069963e-18 1.84466048e-18 5.25814493e-19\n",
      " 1.46853908e-19 4.01860493e-20 1.07746200e-20 2.83051501e-21\n",
      " 7.28560814e-22 1.83739700e-22 4.54022152e-23 1.09922838e-23\n",
      " 2.60756814e-24 6.06066457e-25 1.38019890e-25 3.07964003e-26\n",
      " 6.73279017e-27 1.44220518e-27 3.02688465e-28 6.22445795e-29\n",
      " 1.25413431e-29 2.47584477e-30 4.78894247e-31 9.07596214e-32\n",
      " 1.68532079e-32 3.06626248e-33 5.46604152e-34 9.54714176e-35\n",
      " 1.63384428e-35 2.73958515e-36 4.50086296e-37 7.24508731e-38\n",
      " 1.14268968e-38 1.76583383e-39 2.67367250e-40 3.96646323e-41\n",
      " 5.76548045e-42 8.21115824e-43 1.14580361e-43 1.56658080e-44\n",
      " 2.09861252e-45 2.75453672e-46 3.54243362e-47 4.46366633e-48\n",
      " 5.51084977e-49 6.66626030e-50 7.90101364e-51 9.17529851e-52\n",
      " 1.04398544e-52]\n"
     ]
    }
   ],
   "source": [
    "import scipy.stats as st\n",
    "import numpy as np\n",
    "import matplotlib.pyplot as plt\n",
    "\n",
    "world_height_mean = 165\n",
    "world_height_standard_deviation = 7\n",
    "\n",
    "world_max_height = 272\n",
    "world_min_height = 40\n",
    "num_of_heights = world_max_height - world_min_height+1\n",
    "\n",
    "height = np.linspace(world_min_height, world_max_height, num_of_heights)\n",
    "\n",
    "pPrior = st.norm.pdf(height, world_height_mean, world_height_standard_deviation)\n",
    "\n",
    "print(pPrior)"
   ]
  },
  {
   "cell_type": "code",
   "execution_count": 6,
   "id": "189451ea",
   "metadata": {},
   "outputs": [
    {
     "data": {
      "image/png": "[encoded data removed]",
      "text/plain": [
       "<Figure size 640x480 with 1 Axes>"
      ]
     },
     "metadata": {},
     "output_type": "display_data"
    }
   ],
   "source": [
    "plt.plot(height, pPrior)\n",
    "plt.show()"
   ]
  },
  {
   "cell_type": "markdown",
   "id": "6a60e809",
   "metadata": {},
   "source": [
    "### Calculate the Likelihood Distribution $P(data|Θ)$ \n",
    "\n",
    "The likelihood is the probability of obtaining the $data$ (sample) from the choosen model (e.g. the normal distribution) and for a specific set of parameters $\\theta$ (e.g. $\\mu=165$ and $\\sigma=7$)."
   ]
  },
  {
   "cell_type": "code",
   "execution_count": 7,
   "id": "d0d56f36",
   "metadata": {},
   "outputs": [
    {
     "name": "stdout",
     "output_type": "stream",
     "text": [
      "[0.0057373  0.02493758 0.04415934 0.05199096 0.05199096 0.02493758\n",
      " 0.01015958 0.0057373  0.00298598 0.00143223]\n"
     ]
    }
   ],
   "source": [
    "def compute_likelihood_normal_distrbution(data, mu, sigma):\n",
    "    return st.norm.pdf(data, mu, sigma)\n",
    "\n",
    "mu = world_height_mean\n",
    "sigma = world_height_standard_deviation\n",
    "\n",
    "pLikelihood = compute_likelihood_normal_distrbution(sample, mu, sigma)\n",
    "\n",
    "print(pLikelihood)"
   ]
  },
  {
   "cell_type": "code",
   "execution_count": 8,
   "id": "727d5cd8",
   "metadata": {},
   "outputs": [
    {
     "data": {
      "image/png": "[encoded data removed]",
      "text/plain": [
       "<Figure size 640x480 with 1 Axes>"
      ]
     },
     "metadata": {},
     "output_type": "display_data"
    }
   ],
   "source": [
    "plt.plot(sample, pLikelihood)\n",
    "plt.show()"
   ]
  },
  {
   "cell_type": "markdown",
   "id": "5d718d25",
   "metadata": {},
   "source": [
    "The probability of each value of \n",
    "\n",
    "$data$ = [150, 156, 160, 162, 168, 174, 178, 180, 182, 184] \n",
    "\n",
    "was generated by a Normal distribution with mean 165 and standard deviation 7 is:\n",
    "\n",
    "[0.0057373  0.02493758 0.04415934 0.05199096 0.05199096 0.02493758\n",
    " 0.01015958 0.0057373  0.00298598 0.00143223]"
   ]
  },
  {
   "cell_type": "markdown",
   "id": "d5ace54e",
   "metadata": {},
   "source": [
    "### Calculate the Normalization  Distribution  $𝑃(data)$\n",
    "\n",
    "A \"uniform distribution\" means all possible outcomes in the range have equal probability of occurring. \n",
    "\n",
    "For a uniform normalization all the values in this range could be with equal probability."
   ]
  },
  {
   "cell_type": "code",
   "execution_count": 9,
   "id": "2460e1b1",
   "metadata": {},
   "outputs": [
    {
     "name": "stdout",
     "output_type": "stream",
     "text": [
      "[0.00429185 0.00429185 0.00429185 0.00429185 0.00429185 0.00429185\n",
      " 0.00429185 0.00429185 0.00429185 0.00429185 0.00429185 0.00429185\n",
      " 0.00429185 0.00429185 0.00429185 0.00429185 0.00429185 0.00429185\n",
      " 0.00429185 0.00429185 0.00429185 0.00429185 0.00429185 0.00429185\n",
      " 0.00429185 0.00429185 0.00429185 0.00429185 0.00429185 0.00429185\n",
      " 0.00429185 0.00429185 0.00429185 0.00429185 0.00429185 0.00429185\n",
      " 0.00429185 0.00429185 0.00429185 0.00429185 0.00429185 0.00429185\n",
      " 0.00429185 0.00429185 0.00429185 0.00429185 0.00429185 0.00429185\n",
      " 0.00429185 0.00429185 0.00429185 0.00429185 0.00429185 0.00429185\n",
      " 0.00429185 0.00429185 0.00429185 0.00429185 0.00429185 0.00429185\n",
      " 0.00429185 0.00429185 0.00429185 0.00429185 0.00429185 0.00429185\n",
      " 0.00429185 0.00429185 0.00429185 0.00429185 0.00429185 0.00429185\n",
      " 0.00429185 0.00429185 0.00429185 0.00429185 0.00429185 0.00429185\n",
      " 0.00429185 0.00429185 0.00429185 0.00429185 0.00429185 0.00429185\n",
      " 0.00429185 0.00429185 0.00429185 0.00429185 0.00429185 0.00429185\n",
      " 0.00429185 0.00429185 0.00429185 0.00429185 0.00429185 0.00429185\n",
      " 0.00429185 0.00429185 0.00429185 0.00429185 0.00429185 0.00429185\n",
      " 0.00429185 0.00429185 0.00429185 0.00429185 0.00429185 0.00429185\n",
      " 0.00429185 0.00429185 0.00429185 0.00429185 0.00429185 0.00429185\n",
      " 0.00429185 0.00429185 0.00429185 0.00429185 0.00429185 0.00429185\n",
      " 0.00429185 0.00429185 0.00429185 0.00429185 0.00429185 0.00429185\n",
      " 0.00429185 0.00429185 0.00429185 0.00429185 0.00429185 0.00429185\n",
      " 0.00429185 0.00429185 0.00429185 0.00429185 0.00429185 0.00429185\n",
      " 0.00429185 0.00429185 0.00429185 0.00429185 0.00429185 0.00429185\n",
      " 0.00429185 0.00429185 0.00429185 0.00429185 0.00429185 0.00429185\n",
      " 0.00429185 0.00429185 0.00429185 0.00429185 0.00429185 0.00429185\n",
      " 0.00429185 0.00429185 0.00429185 0.00429185 0.00429185 0.00429185\n",
      " 0.00429185 0.00429185 0.00429185 0.00429185 0.00429185 0.00429185\n",
      " 0.00429185 0.00429185 0.00429185 0.00429185 0.00429185 0.00429185\n",
      " 0.00429185 0.00429185 0.00429185 0.00429185 0.00429185 0.00429185\n",
      " 0.00429185 0.00429185 0.00429185 0.00429185 0.00429185 0.00429185\n",
      " 0.00429185 0.00429185 0.00429185 0.00429185 0.00429185 0.00429185\n",
      " 0.00429185 0.00429185 0.00429185 0.00429185 0.00429185 0.00429185\n",
      " 0.00429185 0.00429185 0.00429185 0.00429185 0.00429185 0.00429185\n",
      " 0.00429185 0.00429185 0.00429185 0.00429185 0.00429185 0.00429185\n",
      " 0.00429185 0.00429185 0.00429185 0.00429185 0.00429185 0.00429185\n",
      " 0.00429185 0.00429185 0.00429185 0.00429185 0.00429185 0.00429185\n",
      " 0.00429185 0.00429185 0.00429185 0.00429185 0.00429185 0.00429185\n",
      " 0.00429185 0.00429185 0.00429185 0.00429185 0.00429185]\n"
     ]
    }
   ],
   "source": [
    "pNormalization = st.randint.pmf(height, world_min_height, world_max_height+1)\n",
    "\n",
    "print(pNormalization)"
   ]
  },
  {
   "cell_type": "code",
   "execution_count": 10,
   "id": "9d985201",
   "metadata": {},
   "outputs": [],
   "source": [
    "def extract_probability(data, probabilities, start_height): \n",
    "    pResult = []\n",
    "    for element in data:\n",
    "        pResult.append(probabilities[element-start_height])\n",
    "        \n",
    "    return pResult"
   ]
  },
  {
   "cell_type": "code",
   "execution_count": 11,
   "id": "fcfdb808",
   "metadata": {},
   "outputs": [
    {
     "name": "stdout",
     "output_type": "stream",
     "text": [
      "[7.66956296e-03 1.44898739e-01 4.54361114e-01 6.29812968e-01\n",
      " 6.29812968e-01 1.44898739e-01 2.40495618e-02 7.66956296e-03\n",
      " 2.07744170e-03 4.77949323e-04]\n"
     ]
    }
   ],
   "source": [
    "pPriorData = extract_probability(sample, pPrior, world_min_height)\n",
    "pNormalizationData = extract_probability(sample, pNormalization, world_min_height)\n",
    "\n",
    "pPosterior = pLikelihood*pPriorData/pNormalizationData\n",
    "\n",
    "print(pPosterior)"
   ]
  },
  {
   "cell_type": "code",
   "execution_count": 12,
   "id": "c671f9c6",
   "metadata": {},
   "outputs": [
    {
     "data": {
      "image/png": "[encoded data removed]",
      "text/plain": [
       "<Figure size 640x480 with 1 Axes>"
      ]
     },
     "metadata": {},
     "output_type": "display_data"
    }
   ],
   "source": [
    "plt.plot(sample, pPosterior)\n",
    "plt.show()"
   ]
  },
  {
   "cell_type": "code",
   "execution_count": null,
   "id": "6d3cf10b",
   "metadata": {},
   "outputs": [],
   "source": []
  },
  {
   "cell_type": "code",
   "execution_count": null,
   "id": "8e4f7723",
   "metadata": {},
   "outputs": [],
   "source": []
  }
 ],
 "metadata": {
  "kernelspec": {
   "display_name": "Python 3 (ipykernel)",
   "language": "python",
   "name": "python3"
  },
  "language_info": {
   "codemirror_mode": {
    "name": "ipython",
    "version": 3
   },
   "file_extension": ".py",
   "mimetype": "text/x-python",
   "name": "python",
   "nbconvert_exporter": "python",
   "pygments_lexer": "ipython3",
   "version": "3.11.5"
  }
 },
 "nbformat": 4,
 "nbformat_minor": 5
}
